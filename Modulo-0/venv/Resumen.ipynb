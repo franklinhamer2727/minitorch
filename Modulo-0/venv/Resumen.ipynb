{
 "cells": [
  {
   "cell_type": "markdown",
   "id": "806e0bc0",
   "metadata": {},
   "source": [
    "## Conjunto de datos"
   ]
  },
  {
   "cell_type": "markdown",
   "id": "e1151749",
   "metadata": {},
   "source": [
    "La base de aprendizaje  supervisado comienza con un conjunto de datos los cuales se encuentran etiquetados.\n",
    "La data set puede estar conpuesta por mas de una etqueta. los datos pueden ser agrupados por etiquetas y ser clsificados para un buen estudio.\n",
    "\n",
    "como podemos verlo en la grafica"
   ]
  },
  {
   "cell_type": "markdown",
   "id": "51eafde4",
   "metadata": {},
   "source": [
    "\n",
    "![Distribucion de datso por etiquetas](split.png)"
   ]
  },
  {
   "cell_type": "markdown",
   "id": "abf4b670",
   "metadata": {},
   "source": [
    "## Modelo"
   ]
  },
  {
   "cell_type": "markdown",
   "id": "0d4b6551",
   "metadata": {},
   "source": [
    "Un modelo es una funcion que asigna etiquetas a puntos de datos.\n",
    "En machine learning debemos especificar a que tipo de modelo queremos ajustar los datos.\n",
    "\n",
    "\n",
    "Podemos superponer un conjunto de datos sobre el modelo. y estos modelos pueden pueden adoptar muchas formas.\n",
    "Una clase de modelo especifica la forma general de los modelos que desea explorar. El aprendizaje  automamtico es el proceso de encontrar el mejor modelo de esa clase.\n",
    "\n"
   ]
  },
  {
   "cell_type": "markdown",
   "id": "14f0da60",
   "metadata": {},
   "source": [
    "\n",
    "![Distribucion de datso por etiquetas](sector2@3x.png)\n",
    "\n"
   ]
  },
  {
   "cell_type": "markdown",
   "id": "109f0b87",
   "metadata": {},
   "source": [
    "## Parametros"
   ]
  },
  {
   "cell_type": "markdown",
   "id": "ea6cd767",
   "metadata": {},
   "source": [
    "Los parametros se definen como un conjunto numeriico que definen completamente la desiciones sobre un modelo.\n",
    "en caso de modelos y clasificacionm binaria.\n"
   ]
  },
  {
   "cell_type": "markdown",
   "id": "1c1e6e52",
   "metadata": {},
   "source": [
    "Los parametros son criticos  para almacenar un modelo y ademaas son necesarios para producir una desicion sobre el conjunto de datos"
   ]
  },
  {
   "cell_type": "markdown",
   "id": "c8a41d49",
   "metadata": {},
   "source": [
    "## Perdidas"
   ]
  },
  {
   "cell_type": "markdown",
   "id": "1c7a5458",
   "metadata": {},
   "source": [
    "Cuando hablamos de perdida en este caso nos estamos refiriendo  a los posibles errores que se pueden comenter en la clasificacion de los datos, estos errores puede ser multples\n",
    "\n",
    "cunado estos datos etiquetados se ajustan a un modelo debemos tener en cuenta si el modelo se ajusta lo mejor posible y miniza la funcion de perdida. por tanto un buen modelo es aquel que hace que la perdida sea lo mas pequeña posible.\n",
    "\n",
    "ahora cundo evaluamos nuestra funcion de perdida(distancia minima hasta el limite de decision) debemos de considerar tres posibles caso que el dato se encuentre en el lad correcto de la linea de decision o que se encuentre enn el lado opuesto.\n",
    "el el primero podria presentar dos casos que la distacia del dato a la linea de decision del moelos sea minima esto se clasificaria como \"preocupante\" o que la distancia a la linea de decision sea mayor esto se podria considerar como \"optimo\" o \" bueno\"\n",
    "\n",
    "lo contrario a estos casos esque se envcuentre en el lado opuesto esto considerar como \" malo\""
   ]
  },
  {
   "cell_type": "markdown",
   "id": "c93d683d",
   "metadata": {},
   "source": [
    "la perdida total es el producto de la cada una de las perdidas individuales.\n"
   ]
  },
  {
   "cell_type": "markdown",
   "id": "5d4cdcd4",
   "metadata": {},
   "source": [
    "## Parametros de Ajuste"
   ]
  },
  {
   "cell_type": "markdown",
   "id": "a33ada5e",
   "metadata": {},
   "source": [
    "como sabemos definen completamete la decision sobre un modelos, estos modelos puyeden ser bueno o no en base a estos parametros para tener una perdida total lo mas pequeña posible\n",
    "pero al no ser posible realizar este calculo tenemos que sobreajustar nuestros parametrosen los mdelos de aprendizaje automatico\n",
    "como esta tarea es exigente desde el punto de vista computacional.usaremos la biblioteca como minitorch\n",
    "\n",
    "Esta biblioteca se centra en una forma de ajuste de parametros  en base a optimizadores de grandienmte.\n",
    "basicamente funcionaria calculando la funcion de perdida para los datos con los parametros, obtenidos estos datos lo que se haria despues es una pequena modifcaion en los parametrs para reducir mas la perdida.\n",
    "\n"
   ]
  },
  {
   "cell_type": "markdown",
   "id": "ec61587a",
   "metadata": {},
   "source": [
    "\n",
    "![Distribucion de datso por etiquetas](move.png)\n"
   ]
  },
  {
   "cell_type": "markdown",
   "id": "0241d2a7",
   "metadata": {},
   "source": [
    "## Redes Neronales"
   ]
  },
  {
   "cell_type": "markdown",
   "id": "92e652c0",
   "metadata": {},
   "source": [
    "Cuando tenemos un conjunto de datos que se dividen  en multiples segmentos, es muy dificil encontrar un modelos lineal y encontrar buenos ajustes, ahi es cuando surge las redes neuronales.\n",
    "las redes neuronales se pueden utilizar para utilizar muchos mas separadores.\n",
    "las redes neuronales dividen las clasificaciones en dos o mas etapas, cada etapa utiliza un modelo lineal y modela los datos en nuevos puntos, la etapa final es el clasificador lineal\n",
    "\n",
    "como vemos en la figura\n",
    "\n"
   ]
  },
  {
   "cell_type": "markdown",
   "id": "2281420e",
   "metadata": {},
   "source": [
    "![Distribucion de datso por etiquetas](split1.png)\n"
   ]
  },
  {
   "cell_type": "markdown",
   "id": "ac341296",
   "metadata": {},
   "source": [
    "![Distribucion de datso por etiquetas](split2.png)"
   ]
  },
  {
   "cell_type": "code",
   "execution_count": null,
   "id": "e812d3e1",
   "metadata": {},
   "outputs": [],
   "source": []
  }
 ],
 "metadata": {
  "kernelspec": {
   "display_name": "Python [conda env:root] *",
   "language": "python",
   "name": "conda-root-py"
  },
  "language_info": {
   "codemirror_mode": {
    "name": "ipython",
    "version": 3
   },
   "file_extension": ".py",
   "mimetype": "text/x-python",
   "name": "python",
   "nbconvert_exporter": "python",
   "pygments_lexer": "ipython3",
   "version": "3.8.8"
  }
 },
 "nbformat": 4,
 "nbformat_minor": 5
}
